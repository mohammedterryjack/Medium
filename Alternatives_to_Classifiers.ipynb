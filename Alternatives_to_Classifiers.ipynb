{
  "nbformat": 4,
  "nbformat_minor": 0,
  "metadata": {
    "colab": {
      "name": "Alternatives to Classifiers.ipynb",
      "provenance": [],
      "collapsed_sections": [],
      "authorship_tag": "ABX9TyMqhR6OnvpVXA5Gvz5rCR1l",
      "include_colab_link": true
    },
    "kernelspec": {
      "name": "python3",
      "display_name": "Python 3"
    }
  },
  "cells": [
    {
      "cell_type": "markdown",
      "metadata": {
        "id": "view-in-github",
        "colab_type": "text"
      },
      "source": [
        "<a href=\"https://colab.research.google.com/github/mohammedterryjack/Medium/blob/master/Alternatives_to_Classifiers.ipynb\" target=\"_parent\"><img src=\"https://colab.research.google.com/assets/colab-badge.svg\" alt=\"Open In Colab\"/></a>"
      ]
    },
    {
      "cell_type": "markdown",
      "metadata": {
        "id": "CfmaI9aa1UaL",
        "colab_type": "text"
      },
      "source": [
        "# Alternatives to Classifiers"
      ]
    },
    {
      "cell_type": "markdown",
      "metadata": {
        "id": "Sip6s-Ep1NaB",
        "colab_type": "text"
      },
      "source": [
        "## Dataset: Ironman\n"
      ]
    },
    {
      "cell_type": "code",
      "metadata": {
        "id": "Ukb7R3D45RUT",
        "colab_type": "code",
        "colab": {
          "base_uri": "https://localhost:8080/",
          "height": 142
        },
        "outputId": "ac1cdecb-7ec8-4d91-ce8f-75eaffaeab34"
      },
      "source": [
        "from requests import get\n",
        "from io import BytesIO\n",
        "from PIL import Image\n",
        "from numpy import asarray \n",
        "\n",
        "IRONMAN_URL = \"https://raw.githubusercontent.com/mohammedterryjack/quran-data/master/space/ironman.png?raw=true\"\n",
        "ironman_pixels = asarray(Image.open(BytesIO(get(IRONMAN_URL).content)))\n",
        "Image.fromarray(ironman_pixels)"
      ],
      "execution_count": 2,
      "outputs": [
        {
          "output_type": "execute_result",
          "data": {
            "image/png": "[encoded data removed]",
            "text/plain": [
              "<PIL.Image.Image image mode=RGBA size=125x125 at 0x7FD8CFECA358>"
            ]
          },
          "metadata": {
            "tags": []
          },
          "execution_count": 2
        }
      ]
    },
    {
      "cell_type": "code",
      "metadata": {
        "id": "XxGHyc2l_4UJ",
        "colab_type": "code",
        "colab": {}
      },
      "source": [
        "WIDTH,HEIGHT,COLOURS = ironman_pixels.shape"
      ],
      "execution_count": 3,
      "outputs": []
    },
    {
      "cell_type": "markdown",
      "metadata": {
        "id": "Vt2Gr8n9EgJp",
        "colab_type": "text"
      },
      "source": [
        "Lets simplify the image quality so that we only have 5 different colours"
      ]
    },
    {
      "cell_type": "code",
      "metadata": {
        "id": "euStfjefJcQa",
        "colab_type": "code",
        "colab": {}
      },
      "source": [
        "COLOUR_NAME_TO_RGBA_MAP = {\n",
        "    \"WHITE\":(255,255,255,255),\n",
        "    \"RED\":(255,0,0,255),\n",
        "    \"YELLOW\":(255,255,0,255),\n",
        "    \"BLUE\":(0,0,255,255),\n",
        "    \"BLACK\":(0,0,0,255)\n",
        "}\n",
        "\n",
        "RGBA_TO_COLOUR_NAME_MAP = {\n",
        "    value:key for key,value in COLOUR_NAME_TO_RGBA_MAP.items()\n",
        "}"
      ],
      "execution_count": 4,
      "outputs": []
    },
    {
      "cell_type": "code",
      "metadata": {
        "id": "JTNUqLqkA--P",
        "colab_type": "code",
        "colab": {}
      },
      "source": [
        "def simplify_rgb(RED:int,GREEN:int,BLUE:int,ALPHA:int,threshold:int=150) -> str:\n",
        "  if RED > threshold:\n",
        "    if GREEN > threshold:\n",
        "      if BLUE > threshold:\n",
        "        return \"WHITE\"\n",
        "      return \"YELLOW\"\n",
        "    return \"RED\"\n",
        "  if BLUE > threshold:\n",
        "    return \"BLUE\"\n",
        "  return \"BLACK\""
      ],
      "execution_count": 5,
      "outputs": []
    },
    {
      "cell_type": "code",
      "metadata": {
        "id": "usCsHY99_7HE",
        "colab_type": "code",
        "colab": {
          "base_uri": "https://localhost:8080/",
          "height": 142
        },
        "outputId": "888bed67-1c6d-4019-b7a9-a65088f9f1aa"
      },
      "source": [
        "from numpy import zeros, uint8\n",
        "\n",
        "ironman_pixels_simplified_colours = zeros((WIDTH,HEIGHT,COLOURS), uint8)\n",
        "\n",
        "for x_coordinate in range(WIDTH):\n",
        "  for y_coordinate in range(HEIGHT):\n",
        "    COLOUR = simplify_rgb(*ironman_pixels[x_coordinate][y_coordinate])\n",
        "    ironman_pixels_simplified_colours[x_coordinate][y_coordinate] = COLOUR_NAME_TO_RGBA_MAP.get(COLOUR)\n",
        "\n",
        "Image.fromarray(ironman_pixels_simplified_colours)"
      ],
      "execution_count": 6,
      "outputs": [
        {
          "output_type": "execute_result",
          "data": {
            "image/png": "[encoded data removed]",
            "text/plain": [
              "<PIL.Image.Image image mode=RGBA size=125x125 at 0x7FD8CFEDC7B8>"
            ]
          },
          "metadata": {
            "tags": []
          },
          "execution_count": 6
        }
      ]
    },
    {
      "cell_type": "markdown",
      "metadata": {
        "id": "4N5UGkON-sEI",
        "colab_type": "text"
      },
      "source": [
        "Now we can frame this as a classification problem whereby each pixel coordinate is an input and its colour is the output class (we convert the RGBA vector into a class category to encode each of the 5 classes of colour without any assumed interrelational information about colour classes)\n",
        "\n",
        "- Inputs (X) = pixel coordinates\n",
        "- Outputs (Y) = pixel colour class"
      ]
    },
    {
      "cell_type": "code",
      "metadata": {
        "id": "qJAIdEh0FCL1",
        "colab_type": "code",
        "colab": {
          "base_uri": "https://localhost:8080/",
          "height": 34
        },
        "outputId": "ca8f0af8-eada-4550-e90f-c2b71efa05ea"
      },
      "source": [
        "CLASSES = list(COLOUR_NAME_TO_RGBA_MAP.keys())\n",
        "CLASSES"
      ],
      "execution_count": 7,
      "outputs": [
        {
          "output_type": "execute_result",
          "data": {
            "text/plain": [
              "['WHITE', 'RED', 'YELLOW', 'BLUE', 'BLACK']"
            ]
          },
          "metadata": {
            "tags": []
          },
          "execution_count": 7
        }
      ]
    },
    {
      "cell_type": "code",
      "metadata": {
        "id": "xorC1ZSkInm5",
        "colab_type": "code",
        "colab": {
          "base_uri": "https://localhost:8080/",
          "height": 34
        },
        "outputId": "2bccd384-af86-43f6-8f0d-c640a349f887"
      },
      "source": [
        "N_CLASSES = len(CLASSES)\n",
        "N_CLASSES"
      ],
      "execution_count": 8,
      "outputs": [
        {
          "output_type": "execute_result",
          "data": {
            "text/plain": [
              "5"
            ]
          },
          "metadata": {
            "tags": []
          },
          "execution_count": 8
        }
      ]
    },
    {
      "cell_type": "code",
      "metadata": {
        "id": "9YcsXiuK9aum",
        "colab_type": "code",
        "colab": {}
      },
      "source": [
        "X = []\n",
        "Y = []\n",
        "\n",
        "for x_coordinate in range(WIDTH):\n",
        "  for y_coordinate in range(HEIGHT):\n",
        "    PIXEL_COORDINATES = (x_coordinate,y_coordinate)\n",
        "    RED,GREEN,BLUE,ALPHA = ironman_pixels_simplified_colours[x_coordinate][y_coordinate]\n",
        "    COLOUR = RGBA_TO_COLOUR_NAME_MAP.get((RED,GREEN,BLUE,ALPHA))\n",
        "    CLASS_INDEX = CLASSES.index(COLOUR)\n",
        "    X.append(PIXEL_COORDINATES)\n",
        "    Y.append(CLASS_INDEX)"
      ],
      "execution_count": 9,
      "outputs": []
    },
    {
      "cell_type": "code",
      "metadata": {
        "id": "99s0IvitLbIh",
        "colab_type": "code",
        "colab": {}
      },
      "source": [
        "from typing import List \n",
        "from numpy import array\n",
        "\n",
        "def convert_prediction_to_image_array(\n",
        "    pixel_coordinates:List[array],\n",
        "    predicted_pixel_classes:List[array]\n",
        ") -> array:\n",
        "\n",
        "  image_array = zeros((WIDTH,HEIGHT,COLOURS), uint8)\n",
        "\n",
        "  for PIXEL_COORDINATES, PIXEL_CLASS_INDEX in zip(pixel_coordinates, predicted_pixel_classes):\n",
        "    x_coordinate,y_coordinate = PIXEL_COORDINATES\n",
        "    COLOUR_NAME = CLASSES[PIXEL_CLASS_INDEX]\n",
        "    RGBA = COLOUR_NAME_TO_RGBA_MAP.get(COLOUR_NAME)\n",
        "\n",
        "    image_array[x_coordinate][y_coordinate] = RGBA\n",
        "\n",
        "  return image_array"
      ],
      "execution_count": 10,
      "outputs": []
    },
    {
      "cell_type": "markdown",
      "metadata": {
        "id": "jvtyOnUuLYsD",
        "colab_type": "text"
      },
      "source": [
        "### Training and Test sets"
      ]
    },
    {
      "cell_type": "markdown",
      "metadata": {
        "id": "BCang8h5h4oe",
        "colab_type": "text"
      },
      "source": [
        "your training and test set should have a similar distribution "
      ]
    },
    {
      "cell_type": "code",
      "metadata": {
        "id": "OzGXaQU1Kck6",
        "colab_type": "code",
        "colab": {}
      },
      "source": [
        "from sklearn.model_selection import train_test_split\n",
        "\n",
        "X_train, X_test, Y_train, Y_test = train_test_split(X, Y)"
      ],
      "execution_count": 19,
      "outputs": []
    },
    {
      "cell_type": "markdown",
      "metadata": {
        "id": "Xwqgc_Q4Owzi",
        "colab_type": "text"
      },
      "source": [
        "**Training Set**"
      ]
    },
    {
      "cell_type": "code",
      "metadata": {
        "id": "iOhpQuzTOhwa",
        "colab_type": "code",
        "colab": {
          "base_uri": "https://localhost:8080/",
          "height": 142
        },
        "outputId": "b0340042-e59c-4265-ee6b-5c668cca7457"
      },
      "source": [
        "Image.fromarray(convert_prediction_to_image_array(X_train,Y_train))"
      ],
      "execution_count": 22,
      "outputs": [
        {
          "output_type": "execute_result",
          "data": {
            "image/png": "[encoded data removed]",
            "text/plain": [
              "<PIL.Image.Image image mode=RGBA size=125x125 at 0x7FD8C201F748>"
            ]
          },
          "metadata": {
            "tags": []
          },
          "execution_count": 22
        }
      ]
    },
    {
      "cell_type": "markdown",
      "metadata": {
        "id": "VgNKQejvOz-Z",
        "colab_type": "text"
      },
      "source": [
        "**Test Set**"
      ]
    },
    {
      "cell_type": "code",
      "metadata": {
        "id": "RLMFpTSJOid7",
        "colab_type": "code",
        "colab": {
          "base_uri": "https://localhost:8080/",
          "height": 142
        },
        "outputId": "51487c57-09c4-4fd7-9bde-567e4c251063"
      },
      "source": [
        "Image.fromarray(convert_prediction_to_image_array(X_test,Y_test))"
      ],
      "execution_count": 23,
      "outputs": [
        {
          "output_type": "execute_result",
          "data": {
            "image/png": "[encoded data removed]",
            "text/plain": [
              "<PIL.Image.Image image mode=RGBA size=125x125 at 0x7FD8C201F7B8>"
            ]
          },
          "metadata": {
            "tags": []
          },
          "execution_count": 23
        }
      ]
    },
    {
      "cell_type": "markdown",
      "metadata": {
        "id": "PDvj7IZzO8Lr",
        "colab_type": "text"
      },
      "source": [
        "### Confusion Matrix"
      ]
    },
    {
      "cell_type": "code",
      "metadata": {
        "id": "qz-xGuYHO-U6",
        "colab_type": "code",
        "colab": {
          "base_uri": "https://localhost:8080/",
          "height": 71
        },
        "outputId": "c55b9b3a-8b93-42f2-aa7d-c1a61c017f06"
      },
      "source": [
        "from sklearn.metrics import classification_report, confusion_matrix\n",
        "from pandas import DataFrame, Index\n",
        "from seaborn import heatmap\n",
        "from numpy import newaxis\n",
        "\n",
        "def evaluate(expected_outputs:List[array],predicted_outputs:List[array]) -> None:\n",
        "  print(classification_report(expected_outputs,predicted_outputs))\n",
        "  matrix_ = confusion_matrix(expected_outputs,predicted_outputs)\n",
        "  matrix_ = matrix_.astype('float') / matrix_.sum(axis=1)[:, newaxis]\n",
        "  matrix = DataFrame(matrix_)\n",
        "  matrix.columns = CLASSES\n",
        "  matrix.set_index([Index(CLASSES)],inplace=True)\n",
        "  heatmap(matrix,cmap=\"YlGnBu\", annot=True)\n"
      ],
      "execution_count": 24,
      "outputs": [
        {
          "output_type": "stream",
          "text": [
            "/usr/local/lib/python3.6/dist-packages/statsmodels/tools/_testing.py:19: FutureWarning: pandas.util.testing is deprecated. Use the functions in the public API at pandas.testing instead.\n",
            "  import pandas.util.testing as tm\n"
          ],
          "name": "stderr"
        }
      ]
    },
    {
      "cell_type": "code",
      "metadata": {
        "id": "uhQ5tzUSPtwc",
        "colab_type": "code",
        "colab": {
          "base_uri": "https://localhost:8080/",
          "height": 473
        },
        "outputId": "5b63d2d5-e7be-4a8e-bd68-04da533d56fc"
      },
      "source": [
        "evaluate(Y_test,Y_test)"
      ],
      "execution_count": 25,
      "outputs": [
        {
          "output_type": "stream",
          "text": [
            "              precision    recall  f1-score   support\n",
            "\n",
            "           0       1.00      1.00      1.00      2018\n",
            "           1       1.00      1.00      1.00       528\n",
            "           2       1.00      1.00      1.00      1222\n",
            "           3       1.00      1.00      1.00        36\n",
            "           4       1.00      1.00      1.00       103\n",
            "\n",
            "    accuracy                           1.00      3907\n",
            "   macro avg       1.00      1.00      1.00      3907\n",
            "weighted avg       1.00      1.00      1.00      3907\n",
            "\n"
          ],
          "name": "stdout"
        },
        {
          "output_type": "display_data",
          "data": {
            "image/png": "[encoded data removed]",
            "text/plain": [
              "<Figure size 432x288 with 2 Axes>"
            ]
          },
          "metadata": {
            "tags": [],
            "needs_background": "light"
          }
        }
      ]
    },
    {
      "cell_type": "markdown",
      "metadata": {
        "id": "4iIQ5lSE1cAC",
        "colab_type": "text"
      },
      "source": [
        "## 1. Direct Approach: Classification\n",
        "- Approximating a nonlinear function to map an input (x) to an output (y)"
      ]
    },
    {
      "cell_type": "code",
      "metadata": {
        "id": "0i6Yg8QM9DnZ",
        "colab_type": "code",
        "colab": {
          "base_uri": "https://localhost:8080/",
          "height": 1000
        },
        "outputId": "5070c8ca-022e-4a5b-c62b-fa0f24cc63c5"
      },
      "source": [
        "from sklearn.neural_network import MLPClassifier\n",
        "\n",
        "classifier = MLPClassifier(hidden_layer_sizes=(100,100,100), verbose=True)\n",
        "classifier.fit(X_train, Y_train)"
      ],
      "execution_count": 26,
      "outputs": [
        {
          "output_type": "stream",
          "text": [
            "Iteration 1, loss = 1.25599303\n",
            "Iteration 2, loss = 0.88437175\n",
            "Iteration 3, loss = 0.86880025\n",
            "Iteration 4, loss = 0.85626089\n",
            "Iteration 5, loss = 0.83837824\n",
            "Iteration 6, loss = 0.78843487\n",
            "Iteration 7, loss = 0.73518217\n",
            "Iteration 8, loss = 0.67628746\n",
            "Iteration 9, loss = 0.60822600\n",
            "Iteration 10, loss = 0.54196629\n",
            "Iteration 11, loss = 0.51148262\n",
            "Iteration 12, loss = 0.49118308\n",
            "Iteration 13, loss = 0.47749468\n",
            "Iteration 14, loss = 0.43550239\n",
            "Iteration 15, loss = 0.44820641\n",
            "Iteration 16, loss = 0.41613817\n",
            "Iteration 17, loss = 0.41288124\n",
            "Iteration 18, loss = 0.38370530\n",
            "Iteration 19, loss = 0.38891127\n",
            "Iteration 20, loss = 0.39194201\n",
            "Iteration 21, loss = 0.37668648\n",
            "Iteration 22, loss = 0.36133374\n",
            "Iteration 23, loss = 0.34776662\n",
            "Iteration 24, loss = 0.34554812\n",
            "Iteration 25, loss = 0.37146073\n",
            "Iteration 26, loss = 0.32696707\n",
            "Iteration 27, loss = 0.37113950\n",
            "Iteration 28, loss = 0.31723503\n",
            "Iteration 29, loss = 0.32281113\n",
            "Iteration 30, loss = 0.31797545\n",
            "Iteration 31, loss = 0.30264862\n",
            "Iteration 32, loss = 0.29988808\n",
            "Iteration 33, loss = 0.52405600\n",
            "Iteration 34, loss = 0.32653896\n",
            "Iteration 35, loss = 0.29832187\n",
            "Iteration 36, loss = 0.28607317\n",
            "Iteration 37, loss = 0.27873871\n",
            "Iteration 38, loss = 0.27410415\n",
            "Iteration 39, loss = 0.27799800\n",
            "Iteration 40, loss = 0.27533868\n",
            "Iteration 41, loss = 0.26276348\n",
            "Iteration 42, loss = 0.27050479\n",
            "Iteration 43, loss = 0.27788653\n",
            "Iteration 44, loss = 0.26372001\n",
            "Iteration 45, loss = 0.24778212\n",
            "Iteration 46, loss = 0.26003671\n",
            "Iteration 47, loss = 0.27597437\n",
            "Iteration 48, loss = 0.27568011\n",
            "Iteration 49, loss = 0.30825256\n",
            "Iteration 50, loss = 0.23317225\n",
            "Iteration 51, loss = 0.23763079\n",
            "Iteration 52, loss = 0.24368179\n",
            "Iteration 53, loss = 0.23416152\n",
            "Iteration 54, loss = 0.24315848\n",
            "Iteration 55, loss = 0.26546934\n",
            "Iteration 56, loss = 0.22862095\n",
            "Iteration 57, loss = 0.24341769\n",
            "Iteration 58, loss = 0.23600097\n",
            "Iteration 59, loss = 0.24122522\n",
            "Iteration 60, loss = 0.22565595\n",
            "Iteration 61, loss = 0.22874243\n",
            "Iteration 62, loss = 0.22121886\n",
            "Iteration 63, loss = 0.21015472\n",
            "Iteration 64, loss = 0.25198410\n",
            "Iteration 65, loss = 0.22393453\n",
            "Iteration 66, loss = 0.32358040\n",
            "Iteration 67, loss = 0.21753083\n",
            "Iteration 68, loss = 0.23463615\n",
            "Iteration 69, loss = 0.21583289\n",
            "Iteration 70, loss = 0.20874796\n",
            "Iteration 71, loss = 0.21240556\n",
            "Iteration 72, loss = 0.20877578\n",
            "Iteration 73, loss = 0.21599657\n",
            "Iteration 74, loss = 0.20381283\n",
            "Iteration 75, loss = 0.22219317\n",
            "Iteration 76, loss = 0.19312053\n",
            "Iteration 77, loss = 0.21298464\n",
            "Iteration 78, loss = 0.20168029\n",
            "Iteration 79, loss = 0.20280228\n",
            "Iteration 80, loss = 0.19442377\n",
            "Iteration 81, loss = 0.22022010\n",
            "Iteration 82, loss = 0.19462761\n",
            "Iteration 83, loss = 0.18749930\n",
            "Iteration 84, loss = 0.26228365\n",
            "Iteration 85, loss = 0.18843589\n",
            "Iteration 86, loss = 0.19976601\n",
            "Iteration 87, loss = 0.20030656\n",
            "Iteration 88, loss = 0.22363394\n",
            "Iteration 89, loss = 0.18484306\n",
            "Iteration 90, loss = 0.23096217\n",
            "Iteration 91, loss = 0.19969127\n",
            "Iteration 92, loss = 0.17696344\n",
            "Iteration 93, loss = 0.20783682\n",
            "Iteration 94, loss = 0.17879363\n",
            "Iteration 95, loss = 0.17201915\n",
            "Iteration 96, loss = 0.19555570\n",
            "Iteration 97, loss = 0.19284459\n",
            "Iteration 98, loss = 0.17388440\n",
            "Iteration 99, loss = 0.18022646\n",
            "Iteration 100, loss = 0.20124699\n",
            "Iteration 101, loss = 0.19827509\n",
            "Iteration 102, loss = 0.20232672\n",
            "Iteration 103, loss = 0.19170224\n",
            "Iteration 104, loss = 0.18604565\n",
            "Iteration 105, loss = 0.21599833\n",
            "Iteration 106, loss = 0.18194436\n",
            "Training loss did not improve more than tol=0.000100 for 10 consecutive epochs. Stopping.\n"
          ],
          "name": "stdout"
        },
        {
          "output_type": "execute_result",
          "data": {
            "text/plain": [
              "MLPClassifier(activation='relu', alpha=0.0001, batch_size='auto', beta_1=0.9,\n",
              "              beta_2=0.999, early_stopping=False, epsilon=1e-08,\n",
              "              hidden_layer_sizes=(100, 100, 100), learning_rate='constant',\n",
              "              learning_rate_init=0.001, max_fun=15000, max_iter=200,\n",
              "              momentum=0.9, n_iter_no_change=10, nesterovs_momentum=True,\n",
              "              power_t=0.5, random_state=None, shuffle=True, solver='adam',\n",
              "              tol=0.0001, validation_fraction=0.1, verbose=True,\n",
              "              warm_start=False)"
            ]
          },
          "metadata": {
            "tags": []
          },
          "execution_count": 26
        }
      ]
    },
    {
      "cell_type": "code",
      "metadata": {
        "id": "y3TgdM47WaMq",
        "colab_type": "code",
        "colab": {}
      },
      "source": [
        "Y_predicted = classifier.predict(X_test)"
      ],
      "execution_count": 27,
      "outputs": []
    },
    {
      "cell_type": "code",
      "metadata": {
        "id": "nlxz70FrWikQ",
        "colab_type": "code",
        "colab": {
          "base_uri": "https://localhost:8080/",
          "height": 142
        },
        "outputId": "0db54881-acc1-4081-ec02-82f940dbcdb6"
      },
      "source": [
        "Image.fromarray(convert_prediction_to_image_array(X_test,Y_predicted))"
      ],
      "execution_count": 28,
      "outputs": [
        {
          "output_type": "execute_result",
          "data": {
            "image/png": "[encoded data removed]",
            "text/plain": [
              "<PIL.Image.Image image mode=RGBA size=125x125 at 0x7FD8BFBA2D68>"
            ]
          },
          "metadata": {
            "tags": []
          },
          "execution_count": 28
        }
      ]
    },
    {
      "cell_type": "code",
      "metadata": {
        "id": "Twc5uZiJXkt9",
        "colab_type": "code",
        "colab": {
          "base_uri": "https://localhost:8080/",
          "height": 142
        },
        "outputId": "23827f9c-2375-484f-aa59-bd3034abf00e"
      },
      "source": [
        "X_ = X_test + X_train\n",
        "Y_ = Y_predicted.tolist() + Y_train\n",
        "\n",
        "Image.fromarray(convert_prediction_to_image_array(X_,Y_))"
      ],
      "execution_count": 29,
      "outputs": [
        {
          "output_type": "execute_result",
          "data": {
            "image/png": "[encoded data removed]",
            "text/plain": [
              "<PIL.Image.Image image mode=RGBA size=125x125 at 0x7FD8BFBA2B38>"
            ]
          },
          "metadata": {
            "tags": []
          },
          "execution_count": 29
        }
      ]
    },
    {
      "cell_type": "code",
      "metadata": {
        "id": "6Xl5e81YWr2c",
        "colab_type": "code",
        "colab": {
          "base_uri": "https://localhost:8080/",
          "height": 469
        },
        "outputId": "6012ab6c-46db-4ca8-caa7-e9ee9b9999fa"
      },
      "source": [
        "evaluate(Y_test,Y_predicted)"
      ],
      "execution_count": 30,
      "outputs": [
        {
          "output_type": "stream",
          "text": [
            "              precision    recall  f1-score   support\n",
            "\n",
            "           0       0.99      0.99      0.99      2018\n",
            "           1       0.91      0.81      0.86       528\n",
            "           2       0.88      0.98      0.93      1222\n",
            "           3       0.79      0.42      0.55        36\n",
            "           4       0.47      0.17      0.26       103\n",
            "\n",
            "    accuracy                           0.93      3907\n",
            "   macro avg       0.81      0.67      0.71      3907\n",
            "weighted avg       0.93      0.93      0.93      3907\n",
            "\n"
          ],
          "name": "stdout"
        },
        {
          "output_type": "display_data",
          "data": {
            "image/png": "[encoded data removed]",
            "text/plain": [
              "<Figure size 432x288 with 2 Axes>"
            ]
          },
          "metadata": {
            "tags": [],
            "needs_background": "light"
          }
        }
      ]
    },
    {
      "cell_type": "markdown",
      "metadata": {
        "id": "nOH0-YuY1etd",
        "colab_type": "text"
      },
      "source": [
        "## 2. Indirect Approach: Ranking (via a distance measure)\n",
        "- By measuring the distance of an input (x) to an output (y)\n",
        "- any given input can be ranked against the outputs to find the one which is closest (most suitable) for the given input\n",
        "- But how can you measure the similarity of inputs and outputs when they are embedded in completely different spaces?"
      ]
    },
    {
      "cell_type": "markdown",
      "metadata": {
        "id": "_bs-h2uVh1CX",
        "colab_type": "text"
      },
      "source": [
        "### 2.a.i. K Nearest Neighbours\n",
        "- Rank the new input (x) against a set of example inputs using a linear distance measure (e.g. euclidean, cosine, etc)\n",
        "- Take the output (y) of the most similar example input as the prediction\n",
        "- Example-based methods such as this (also known as retrieval-based learning, instance-based learning, lazy learning, etc) are one of the simplest forms of machine learning  and do not involve training / approximating any function (Unlike the classification method above)\n",
        "- Siamese Networks work on a very similar principal (except the distance function is nonlinear and approximated by the network)\n"
      ]
    },
    {
      "cell_type": "markdown",
      "metadata": {
        "id": "vwYyYhjVmZdn",
        "colab_type": "text"
      },
      "source": [
        "![](https://machinelearningknowledge.ai/wp-content/uploads/2018/08/KNN-Classification.gif)"
      ]
    },
    {
      "cell_type": "code",
      "metadata": {
        "id": "RGlze-Mr9Fhq",
        "colab_type": "code",
        "colab": {}
      },
      "source": [
        "from sklearn.neighbors import KNeighborsClassifier\n",
        "\n",
        "nearest_neighbour_algorithm = KNeighborsClassifier(n_neighbors=3)\n",
        "nearest_neighbour_algorithm.fit(X_train, Y_train)\n",
        "\n",
        "Y_predicted = nearest_neighbour_algorithm.predict(X_test)"
      ],
      "execution_count": null,
      "outputs": []
    },
    {
      "cell_type": "code",
      "metadata": {
        "id": "2pSzo5MMkzBC",
        "colab_type": "code",
        "colab": {
          "base_uri": "https://localhost:8080/",
          "height": 142
        },
        "outputId": "d2193acf-c8a8-4d69-c0cc-545269d95b45"
      },
      "source": [
        "Image.fromarray(convert_prediction_to_image_array(X_test,Y_predicted))"
      ],
      "execution_count": null,
      "outputs": [
        {
          "output_type": "execute_result",
          "data": {
            "image/png": "[encoded data removed]",
            "text/plain": [
              "<PIL.Image.Image image mode=RGBA size=125x125 at 0x7F95DEA02E48>"
            ]
          },
          "metadata": {
            "tags": []
          },
          "execution_count": 24
        }
      ]
    },
    {
      "cell_type": "code",
      "metadata": {
        "id": "S3rVDcDdk6tl",
        "colab_type": "code",
        "colab": {
          "base_uri": "https://localhost:8080/",
          "height": 142
        },
        "outputId": "eb45e72c-7342-42ea-8b32-cf60faa3b66d"
      },
      "source": [
        "X_ = X_test + X_train\n",
        "Y_ = Y_predicted.tolist() + Y_train\n",
        "\n",
        "Image.fromarray(convert_prediction_to_image_array(X_,Y_))"
      ],
      "execution_count": null,
      "outputs": [
        {
          "output_type": "execute_result",
          "data": {
            "image/png": "[encoded data removed]",
            "text/plain": [
              "<PIL.Image.Image image mode=RGBA size=125x125 at 0x7F95DC3E43C8>"
            ]
          },
          "metadata": {
            "tags": []
          },
          "execution_count": 25
        }
      ]
    },
    {
      "cell_type": "code",
      "metadata": {
        "id": "ND9b_tP5k9un",
        "colab_type": "code",
        "colab": {
          "base_uri": "https://localhost:8080/",
          "height": 469
        },
        "outputId": "2d8e5ab6-1156-4a1d-8c28-986f1d3462ea"
      },
      "source": [
        "evaluate(Y_test,Y_predicted)"
      ],
      "execution_count": null,
      "outputs": [
        {
          "output_type": "stream",
          "text": [
            "              precision    recall  f1-score   support\n",
            "\n",
            "           0       0.99      0.99      0.99      1999\n",
            "           1       0.92      0.96      0.94       521\n",
            "           2       0.98      0.98      0.98      1240\n",
            "           3       0.92      0.77      0.84        31\n",
            "           4       0.76      0.61      0.68       116\n",
            "\n",
            "    accuracy                           0.97      3907\n",
            "   macro avg       0.92      0.86      0.89      3907\n",
            "weighted avg       0.97      0.97      0.97      3907\n",
            "\n"
          ],
          "name": "stdout"
        },
        {
          "output_type": "display_data",
          "data": {
            "image/png": "[encoded data removed]",
            "text/plain": [
              "<Figure size 432x288 with 2 Axes>"
            ]
          },
          "metadata": {
            "tags": [],
            "needs_background": "light"
          }
        }
      ]
    },
    {
      "cell_type": "markdown",
      "metadata": {
        "id": "xnWVYEowiZxb",
        "colab_type": "text"
      },
      "source": [
        "### 2.b.i. Joint Embeddings\n",
        "- Learn joint embeddings so that the inputs (X) and outputs (Y) can be embedded into a shared space \n",
        "- rank a new input against the outputs using linear distance metrics (e.g. euclidean distance, cosine distance, etc)\n",
        "- take the most similar output as the prediction\n",
        "- there are a few different ways to embed the outputs and inputs onto a shared manifold - such as taking the learnt feature representations of a neural model (e.g. Skip-gram, Recurrent Embedding Dialogue Policy, etc).  We shall be using Matrix Factorisation.  "
      ]
    },
    {
      "cell_type": "markdown",
      "metadata": {
        "id": "mjFtu36vnpyq",
        "colab_type": "text"
      },
      "source": [
        "![](https://meryemmhamdi1.github.io/assets/images/posts/2018/jointmultilingualspace.gif)"
      ]
    },
    {
      "cell_type": "code",
      "metadata": {
        "id": "ythIwXg8pRiP",
        "colab_type": "code",
        "colab": {}
      },
      "source": [
        "from pandas import DataFrame \n",
        "from typing import List \n",
        "from numpy.linalg import pinv \n",
        "\n",
        "def onehot_encode(class_index:int, number_of_classes:int) -> array:\n",
        "  vector = zeros(number_of_classes)\n",
        "  vector[class_index] = 1.\n",
        "  return vector\n",
        "  \n",
        "def get_sparse_output_vectors(training_output_indexes:List[int]) -> DataFrame:\n",
        "  sparse_matrix = DataFrame(list(map(lambda index:onehot_encode(index,N_CLASSES),training_output_indexes)))\n",
        "  sparse_matrix.columns = CLASSES \n",
        "  return sparse_matrix\n",
        "\n",
        "def get_dense_input_vectors(input_vectors:List[array]) -> DataFrame:\n",
        "  return DataFrame(\n",
        "    dict(\n",
        "      map(\n",
        "        lambda coordinates: (\n",
        "          f\"{coordinates}\",\n",
        "          coordinates\n",
        "        ),\n",
        "        input_vectors\n",
        "      )\n",
        "    )\n",
        "  )\n",
        "\n",
        "def get_compatible_dense_output_vectors_using_pseudoinverse(dense_input_vectors:List[float],sparse_matrix:DataFrame) -> DataFrame:\n",
        "  dense_output_vectors = DataFrame(\n",
        "    pinv(dense_input_vectors.T) @ sparse_matrix\n",
        "  )\n",
        "  dense_output_vectors.columns = sparse_matrix.columns\n",
        "  return dense_output_vectors\n",
        "\n",
        "def get_dense_output_vectors_via_matrix_factorisation(training_inputs:List[array], training_output_indexes:List[int]) -> List[float]:\n",
        "  return get_compatible_dense_output_vectors_using_pseudoinverse(\n",
        "    dense_input_vectors=get_dense_input_vectors(training_inputs),\n",
        "    sparse_matrix=get_sparse_output_vectors(training_output_indexes)\n",
        "  ).T"
      ],
      "execution_count": null,
      "outputs": []
    },
    {
      "cell_type": "code",
      "metadata": {
        "id": "5VVuUwsMMjwj",
        "colab_type": "code",
        "colab": {
          "base_uri": "https://localhost:8080/",
          "height": 204
        },
        "outputId": "b050558c-8cfa-4596-bf6a-f040e8be970c"
      },
      "source": [
        "Y_train_vectors = get_dense_output_vectors_via_matrix_factorisation(X_train,Y_train) \n",
        "Y_train_vectors.columns=[\"X\",\"Y\"]\n",
        "Y_train_vectors"
      ],
      "execution_count": null,
      "outputs": [
        {
          "output_type": "execute_result",
          "data": {
            "text/html": [
              "<div>\n",
              "<style scoped>\n",
              "    .dataframe tbody tr th:only-of-type {\n",
              "        vertical-align: middle;\n",
              "    }\n",
              "\n",
              "    .dataframe tbody tr th {\n",
              "        vertical-align: top;\n",
              "    }\n",
              "\n",
              "    .dataframe thead th {\n",
              "        text-align: right;\n",
              "    }\n",
              "</style>\n",
              "<table border=\"1\" class=\"dataframe\">\n",
              "  <thead>\n",
              "    <tr style=\"text-align: right;\">\n",
              "      <th></th>\n",
              "      <th>X</th>\n",
              "      <th>Y</th>\n",
              "    </tr>\n",
              "  </thead>\n",
              "  <tbody>\n",
              "    <tr>\n",
              "      <th>WHITE</th>\n",
              "      <td>0.004157</td>\n",
              "      <td>0.003006</td>\n",
              "    </tr>\n",
              "    <tr>\n",
              "      <th>RED</th>\n",
              "      <td>-0.000354</td>\n",
              "      <td>0.001911</td>\n",
              "    </tr>\n",
              "    <tr>\n",
              "      <th>YELLOW</th>\n",
              "      <td>0.002639</td>\n",
              "      <td>0.001833</td>\n",
              "    </tr>\n",
              "    <tr>\n",
              "      <th>BLUE</th>\n",
              "      <td>0.000102</td>\n",
              "      <td>0.000031</td>\n",
              "    </tr>\n",
              "    <tr>\n",
              "      <th>BLACK</th>\n",
              "      <td>0.000390</td>\n",
              "      <td>0.000076</td>\n",
              "    </tr>\n",
              "  </tbody>\n",
              "</table>\n",
              "</div>"
            ],
            "text/plain": [
              "               X         Y\n",
              "WHITE   0.004157  0.003006\n",
              "RED    -0.000354  0.001911\n",
              "YELLOW  0.002639  0.001833\n",
              "BLUE    0.000102  0.000031\n",
              "BLACK   0.000390  0.000076"
            ]
          },
          "metadata": {
            "tags": []
          },
          "execution_count": 29
        }
      ]
    },
    {
      "cell_type": "code",
      "metadata": {
        "id": "eNw2rwktNNqh",
        "colab_type": "code",
        "colab": {
          "base_uri": "https://localhost:8080/",
          "height": 34
        },
        "outputId": "fc0fb708-1854-42cb-bdb1-9f3164c3e74a"
      },
      "source": [
        "from scipy.spatial.distance import cosine\n",
        "\n",
        "example_vector = X_train[0]\n",
        "cosine(example_vector,example_vector)"
      ],
      "execution_count": null,
      "outputs": [
        {
          "output_type": "execute_result",
          "data": {
            "text/plain": [
              "0.0"
            ]
          },
          "metadata": {
            "tags": []
          },
          "execution_count": 35
        }
      ]
    },
    {
      "cell_type": "code",
      "metadata": {
        "id": "ZTL2EdCC9E5f",
        "colab_type": "code",
        "colab": {}
      },
      "source": [
        "def rank(distance_measure:callable, input_vector:array, candidate_vectors:List[array]) -> List[float]:\n",
        "  \"\"\" \n",
        "  measure the distance from a given input_vector to a set of candidate_vectors \n",
        "  \"\"\"\n",
        "  return list(\n",
        "    map(\n",
        "      lambda candidate_vector: distance_measure(input_vector,candidate_vector),\n",
        "      candidate_vectors\n",
        "    )\n",
        "  )\n",
        "\n",
        "def retrieve(rankings:List[float]) -> int:\n",
        "  \"\"\"\n",
        "  return the index to the best ranked result \n",
        "  (best = lowest = closest distance from the given input)\n",
        "  \"\"\"\n",
        "  return rankings.index(min(rankings))\n",
        "\n",
        "def predict(test_inputs:List[array], distance_measure:callable, candidate_vectors:List[array]) -> List[int]:\n",
        "  return list(\n",
        "      map(\n",
        "          lambda test_input: retrieve(\n",
        "              rankings = rank(\n",
        "                  distance_measure=distance_measure, \n",
        "                  input_vector=test_input, \n",
        "                  candidate_vectors=candidate_vectors\n",
        "              )\n",
        "          ),\n",
        "          test_inputs\n",
        "      )\n",
        "  )"
      ],
      "execution_count": null,
      "outputs": []
    },
    {
      "cell_type": "code",
      "metadata": {
        "id": "xzQsVi5bMDgr",
        "colab_type": "code",
        "colab": {}
      },
      "source": [
        "Y_predicted = predict(test_inputs=X_test, distance_measure=cosine, candidate_vectors=Y_train_vectors.to_numpy())"
      ],
      "execution_count": null,
      "outputs": []
    },
    {
      "cell_type": "code",
      "metadata": {
        "id": "RY99EC5jVerq",
        "colab_type": "code",
        "colab": {
          "base_uri": "https://localhost:8080/",
          "height": 142
        },
        "outputId": "b9052760-7fe1-4976-f78b-a2ef66532237"
      },
      "source": [
        "Image.fromarray(convert_prediction_to_image_array(X_test,Y_predicted))"
      ],
      "execution_count": null,
      "outputs": [
        {
          "output_type": "execute_result",
          "data": {
            "image/png": "[encoded data removed]",
            "text/plain": [
              "<PIL.Image.Image image mode=RGBA size=125x125 at 0x7F95DBDD7748>"
            ]
          },
          "metadata": {
            "tags": []
          },
          "execution_count": 41
        }
      ]
    },
    {
      "cell_type": "code",
      "metadata": {
        "id": "e6HhscuxVk7n",
        "colab_type": "code",
        "colab": {
          "base_uri": "https://localhost:8080/",
          "height": 142
        },
        "outputId": "24c7a6f1-baed-4038-afac-b02341018cd6"
      },
      "source": [
        "X_ = X_test + X_train\n",
        "Y_ = Y_predicted + Y_train\n",
        "\n",
        "Image.fromarray(convert_prediction_to_image_array(X_,Y_))"
      ],
      "execution_count": null,
      "outputs": [
        {
          "output_type": "execute_result",
          "data": {
            "image/png": "[encoded data removed]",
            "text/plain": [
              "<PIL.Image.Image image mode=RGBA size=125x125 at 0x7F95DBDD7CC0>"
            ]
          },
          "metadata": {
            "tags": []
          },
          "execution_count": 42
        }
      ]
    },
    {
      "cell_type": "code",
      "metadata": {
        "id": "TJArzEaMVgbI",
        "colab_type": "code",
        "colab": {
          "base_uri": "https://localhost:8080/",
          "height": 469
        },
        "outputId": "74524c90-8828-4d9c-bb0e-ad93f37ee727"
      },
      "source": [
        "evaluate(Y_test,Y_predicted)"
      ],
      "execution_count": null,
      "outputs": [
        {
          "output_type": "stream",
          "text": [
            "              precision    recall  f1-score   support\n",
            "\n",
            "           0       0.39      0.34      0.37      1999\n",
            "           1       0.30      0.46      0.36       521\n",
            "           2       0.59      0.20      0.30      1240\n",
            "           3       0.00      0.03      0.00        31\n",
            "           4       0.00      0.00      0.00       116\n",
            "\n",
            "    accuracy                           0.30      3907\n",
            "   macro avg       0.26      0.21      0.21      3907\n",
            "weighted avg       0.43      0.30      0.33      3907\n",
            "\n"
          ],
          "name": "stdout"
        },
        {
          "output_type": "display_data",
          "data": {
            "image/png": "[encoded data removed]",
            "text/plain": [
              "<Figure size 432x288 with 2 Axes>"
            ]
          },
          "metadata": {
            "tags": [],
            "needs_background": "light"
          }
        }
      ]
    },
    {
      "cell_type": "markdown",
      "metadata": {
        "id": "4DT15Pol4BtV",
        "colab_type": "text"
      },
      "source": [
        "### 2.b.ii. Learn a Distance Function \n",
        "- Use a nonlinear distance measure which measures the relative distance of input-output pairs\n",
        "- Approximate the custom distance measure using a regression model\n"
      ]
    },
    {
      "cell_type": "code",
      "metadata": {
        "id": "SI3KS5IHY5ao",
        "colab_type": "code",
        "colab": {}
      },
      "source": [
        "from typing import Tuple\n",
        "from numpy import concatenate \n",
        "\n",
        "def format_dataset_for_distance_function(input_training_data:List[array],output_training_data:List[int]) -> Tuple[List[array],List[float]]:\n",
        "  \"\"\" \n",
        "  returns \n",
        "    - training inputs which are the concatenation of input vector and output vector (onehot encoded)\n",
        "    - training outputs which are the similarity distance between the two concatenated vectors\n",
        "  \"\"\"\n",
        "  concatenated_vector_inputs = [] \n",
        "  vector_distance_outputs = [] \n",
        "  for class_index in range(N_CLASSES):\n",
        "    for input_vector_a,correct_class_index in zip(input_training_data,output_training_data):\n",
        "      input_vector_b = onehot_encode(class_index,N_CLASSES)\n",
        "      if class_index==correct_class_index:\n",
        "        DISTANCE = .0\n",
        "      else:\n",
        "        DISTANCE = 1. \n",
        "      concatenated_vector_inputs.append(concatenate([input_vector_a,input_vector_b]))\n",
        "      vector_distance_outputs.append(DISTANCE)\n",
        "  return concatenated_vector_inputs,vector_distance_outputs"
      ],
      "execution_count": null,
      "outputs": []
    },
    {
      "cell_type": "code",
      "metadata": {
        "id": "h_3YaOSpbppD",
        "colab_type": "code",
        "colab": {}
      },
      "source": [
        "XX_train,YY_train = format_dataset_for_distance_function(X_train,Y_train)"
      ],
      "execution_count": null,
      "outputs": []
    },
    {
      "cell_type": "code",
      "metadata": {
        "id": "KXLATdFzonb_",
        "colab_type": "code",
        "colab": {
          "base_uri": "https://localhost:8080/",
          "height": 1000
        },
        "outputId": "d7f5376b-c069-4a2f-f4be-5bdbaa87b732"
      },
      "source": [
        "from sklearn.neural_network import MLPRegressor\n",
        "\n",
        "neural_network = MLPRegressor(hidden_layer_sizes=(100,100,100), verbose=True)\n",
        "\n",
        "neural_network.fit(XX_train, YY_train)"
      ],
      "execution_count": null,
      "outputs": [
        {
          "output_type": "stream",
          "text": [
            "Iteration 1, loss = 0.14733598\n",
            "Iteration 2, loss = 0.05529738\n",
            "Iteration 3, loss = 0.05246474\n",
            "Iteration 4, loss = 0.04590149\n",
            "Iteration 5, loss = 0.04088009\n",
            "Iteration 6, loss = 0.03998251\n",
            "Iteration 7, loss = 0.03653157\n",
            "Iteration 8, loss = 0.03831815\n",
            "Iteration 9, loss = 0.03528926\n",
            "Iteration 10, loss = 0.03422857\n",
            "Iteration 11, loss = 0.03374570\n",
            "Iteration 12, loss = 0.03288182\n",
            "Iteration 13, loss = 0.03265411\n",
            "Iteration 14, loss = 0.03213181\n",
            "Iteration 15, loss = 0.03134860\n",
            "Iteration 16, loss = 0.02911913\n",
            "Iteration 17, loss = 0.02863614\n",
            "Iteration 18, loss = 0.02826225\n",
            "Iteration 19, loss = 0.02797282\n",
            "Iteration 20, loss = 0.02705471\n",
            "Iteration 21, loss = 0.02693425\n",
            "Iteration 22, loss = 0.02586309\n",
            "Iteration 23, loss = 0.02573348\n",
            "Iteration 24, loss = 0.02509416\n",
            "Iteration 25, loss = 0.02470874\n",
            "Iteration 26, loss = 0.02366331\n",
            "Iteration 27, loss = 0.02240236\n",
            "Iteration 28, loss = 0.02203764\n",
            "Iteration 29, loss = 0.02202083\n",
            "Iteration 30, loss = 0.02312004\n",
            "Iteration 31, loss = 0.02138671\n",
            "Iteration 32, loss = 0.02093388\n",
            "Iteration 33, loss = 0.02129431\n",
            "Iteration 34, loss = 0.02080808\n",
            "Iteration 35, loss = 0.01965700\n",
            "Iteration 36, loss = 0.01908243\n",
            "Iteration 37, loss = 0.01991551\n",
            "Iteration 38, loss = 0.01895338\n",
            "Iteration 39, loss = 0.01826475\n",
            "Iteration 40, loss = 0.01885498\n",
            "Iteration 41, loss = 0.01752648\n",
            "Iteration 42, loss = 0.01849613\n",
            "Iteration 43, loss = 0.01816515\n",
            "Iteration 44, loss = 0.01753671\n",
            "Iteration 45, loss = 0.01699748\n",
            "Iteration 46, loss = 0.01800542\n",
            "Iteration 47, loss = 0.01780085\n",
            "Iteration 48, loss = 0.01667943\n",
            "Iteration 49, loss = 0.01648979\n",
            "Iteration 50, loss = 0.01644510\n",
            "Iteration 51, loss = 0.01693685\n",
            "Iteration 52, loss = 0.01639817\n",
            "Iteration 53, loss = 0.01642614\n",
            "Iteration 54, loss = 0.01573453\n",
            "Iteration 55, loss = 0.01549858\n",
            "Iteration 56, loss = 0.01513588\n",
            "Iteration 57, loss = 0.01562636\n",
            "Iteration 58, loss = 0.01540202\n",
            "Iteration 59, loss = 0.01534852\n",
            "Iteration 60, loss = 0.01531868\n",
            "Iteration 61, loss = 0.01529828\n",
            "Iteration 62, loss = 0.01463553\n",
            "Iteration 63, loss = 0.01480718\n",
            "Iteration 64, loss = 0.01480355\n",
            "Iteration 65, loss = 0.01473709\n",
            "Iteration 66, loss = 0.01412686\n",
            "Iteration 67, loss = 0.01533149\n",
            "Iteration 68, loss = 0.01449944\n",
            "Iteration 69, loss = 0.01449101\n",
            "Iteration 70, loss = 0.01437857\n",
            "Iteration 71, loss = 0.01348401\n",
            "Iteration 72, loss = 0.01380026\n",
            "Iteration 73, loss = 0.01415576\n",
            "Iteration 74, loss = 0.01425143\n",
            "Iteration 75, loss = 0.01370187\n",
            "Iteration 76, loss = 0.01398070\n",
            "Iteration 77, loss = 0.01330600\n",
            "Iteration 78, loss = 0.01316910\n",
            "Iteration 79, loss = 0.01315301\n",
            "Iteration 80, loss = 0.01342363\n",
            "Iteration 81, loss = 0.01340485\n",
            "Iteration 82, loss = 0.01298284\n",
            "Iteration 83, loss = 0.01283397\n",
            "Iteration 84, loss = 0.01348388\n",
            "Iteration 85, loss = 0.01335964\n",
            "Iteration 86, loss = 0.01303971\n",
            "Iteration 87, loss = 0.01256721\n",
            "Iteration 88, loss = 0.01289977\n",
            "Iteration 89, loss = 0.01285909\n",
            "Iteration 90, loss = 0.01305186\n",
            "Iteration 91, loss = 0.01201424\n",
            "Iteration 92, loss = 0.01263938\n",
            "Iteration 93, loss = 0.01270075\n",
            "Iteration 94, loss = 0.01303771\n",
            "Iteration 95, loss = 0.01212202\n",
            "Iteration 96, loss = 0.01216216\n",
            "Iteration 97, loss = 0.01243320\n",
            "Iteration 98, loss = 0.01190031\n",
            "Iteration 99, loss = 0.01258008\n",
            "Iteration 100, loss = 0.01185371\n",
            "Iteration 101, loss = 0.01162835\n",
            "Iteration 102, loss = 0.01178416\n",
            "Iteration 103, loss = 0.01151310\n",
            "Iteration 104, loss = 0.01238488\n",
            "Iteration 105, loss = 0.01161761\n",
            "Iteration 106, loss = 0.01134965\n",
            "Iteration 107, loss = 0.01191405\n",
            "Iteration 108, loss = 0.01159677\n",
            "Iteration 109, loss = 0.01160952\n",
            "Iteration 110, loss = 0.01123828\n",
            "Iteration 111, loss = 0.01147764\n",
            "Iteration 112, loss = 0.01152263\n",
            "Iteration 113, loss = 0.01153220\n",
            "Iteration 114, loss = 0.01093514\n",
            "Iteration 115, loss = 0.01157744\n",
            "Iteration 116, loss = 0.01138235\n",
            "Iteration 117, loss = 0.01130787\n",
            "Iteration 118, loss = 0.01150727\n",
            "Iteration 119, loss = 0.01096831\n",
            "Iteration 120, loss = 0.01093787\n",
            "Iteration 121, loss = 0.01077324\n",
            "Iteration 122, loss = 0.01108267\n",
            "Iteration 123, loss = 0.01086727\n",
            "Iteration 124, loss = 0.01072696\n",
            "Iteration 125, loss = 0.01101428\n",
            "Iteration 126, loss = 0.01091346\n",
            "Iteration 127, loss = 0.01105109\n",
            "Iteration 128, loss = 0.01105437\n",
            "Iteration 129, loss = 0.01040087\n",
            "Iteration 130, loss = 0.01089619\n",
            "Iteration 131, loss = 0.01156453\n",
            "Iteration 132, loss = 0.01041139\n",
            "Iteration 133, loss = 0.01079109\n",
            "Iteration 134, loss = 0.01065985\n",
            "Iteration 135, loss = 0.01056635\n",
            "Iteration 136, loss = 0.01037200\n",
            "Iteration 137, loss = 0.01064052\n",
            "Iteration 138, loss = 0.01141823\n",
            "Iteration 139, loss = 0.01060069\n",
            "Iteration 140, loss = 0.01065375\n",
            "Training loss did not improve more than tol=0.000100 for 10 consecutive epochs. Stopping.\n"
          ],
          "name": "stdout"
        },
        {
          "output_type": "execute_result",
          "data": {
            "text/plain": [
              "MLPRegressor(activation='relu', alpha=0.0001, batch_size='auto', beta_1=0.9,\n",
              "             beta_2=0.999, early_stopping=False, epsilon=1e-08,\n",
              "             hidden_layer_sizes=(100, 100, 100), learning_rate='constant',\n",
              "             learning_rate_init=0.001, max_fun=15000, max_iter=200,\n",
              "             momentum=0.9, n_iter_no_change=10, nesterovs_momentum=True,\n",
              "             power_t=0.5, random_state=None, shuffle=True, solver='adam',\n",
              "             tol=0.0001, validation_fraction=0.1, verbose=True,\n",
              "             warm_start=False)"
            ]
          },
          "metadata": {
            "tags": []
          },
          "execution_count": 46
        }
      ]
    },
    {
      "cell_type": "code",
      "metadata": {
        "id": "sZIcwNGLefxb",
        "colab_type": "code",
        "colab": {}
      },
      "source": [
        "def predict_closest_class_index(input_vector:array) -> int:\n",
        "  \"\"\"\n",
        "  given an input_vector \n",
        "  enumerate all possible classes and onehot encode them \n",
        "  for each class: concatenate the input_vector with the one hot encoding of the class \n",
        "  use the concatenated vector as the input to the network\n",
        "  predict the distances for each concatenation\n",
        "  return the index of the class which was closest (had the smallest distance)\n",
        "  \"\"\"\n",
        "  concatenated_inputs = list(map(\n",
        "      lambda class_index: concatenate(\n",
        "          [\n",
        "            input_vector,\n",
        "            onehot_encode(class_index,N_CLASSES),\n",
        "          ]\n",
        "      ),\n",
        "      range(N_CLASSES)\n",
        "  ))\n",
        "  distances = neural_network.predict(concatenated_inputs).tolist()\n",
        "  return distances.index(min(distances))"
      ],
      "execution_count": null,
      "outputs": []
    },
    {
      "cell_type": "code",
      "metadata": {
        "id": "-Oqy6ThzcZEL",
        "colab_type": "code",
        "colab": {}
      },
      "source": [
        "Y_predicted = list(map(predict_closest_class_index,X_test))"
      ],
      "execution_count": null,
      "outputs": []
    },
    {
      "cell_type": "code",
      "metadata": {
        "id": "LbdlYjS-gW_E",
        "colab_type": "code",
        "colab": {
          "base_uri": "https://localhost:8080/",
          "height": 142
        },
        "outputId": "c9f69043-5f28-42e1-d389-536b666fef03"
      },
      "source": [
        "Image.fromarray(convert_prediction_to_image_array(X_test,Y_predicted))"
      ],
      "execution_count": null,
      "outputs": [
        {
          "output_type": "execute_result",
          "data": {
            "image/png": "[encoded data removed]",
            "text/plain": [
              "<PIL.Image.Image image mode=RGBA size=125x125 at 0x7F95DE9FB4E0>"
            ]
          },
          "metadata": {
            "tags": []
          },
          "execution_count": 49
        }
      ]
    },
    {
      "cell_type": "code",
      "metadata": {
        "id": "8C7iLtEigZog",
        "colab_type": "code",
        "colab": {
          "base_uri": "https://localhost:8080/",
          "height": 142
        },
        "outputId": "c3ca985d-c232-48f1-ebec-0bd69ccead86"
      },
      "source": [
        "X_ = X_test + X_train\n",
        "Y_ = Y_predicted + Y_train\n",
        "\n",
        "Image.fromarray(convert_prediction_to_image_array(X_,Y_))"
      ],
      "execution_count": null,
      "outputs": [
        {
          "output_type": "execute_result",
          "data": {
            "image/png": "[encoded data removed]",
            "text/plain": [
              "<PIL.Image.Image image mode=RGBA size=125x125 at 0x7F95DE9FB7B8>"
            ]
          },
          "metadata": {
            "tags": []
          },
          "execution_count": 50
        }
      ]
    },
    {
      "cell_type": "code",
      "metadata": {
        "id": "SyizqlH9gb88",
        "colab_type": "code",
        "colab": {
          "base_uri": "https://localhost:8080/",
          "height": 469
        },
        "outputId": "6b88955d-d394-42c2-fffe-500ba6e4f20e"
      },
      "source": [
        "evaluate(Y_test,Y_predicted)"
      ],
      "execution_count": null,
      "outputs": [
        {
          "output_type": "stream",
          "text": [
            "              precision    recall  f1-score   support\n",
            "\n",
            "           0       0.99      0.99      0.99      1999\n",
            "           1       0.88      0.85      0.87       521\n",
            "           2       0.89      0.97      0.93      1240\n",
            "           3       1.00      0.29      0.45        31\n",
            "           4       0.64      0.16      0.25       116\n",
            "\n",
            "    accuracy                           0.94      3907\n",
            "   macro avg       0.88      0.65      0.70      3907\n",
            "weighted avg       0.93      0.94      0.93      3907\n",
            "\n"
          ],
          "name": "stdout"
        },
        {
          "output_type": "display_data",
          "data": {
            "image/png": "[encoded data removed]",
            "text/plain": [
              "<Figure size 432x288 with 2 Axes>"
            ]
          },
          "metadata": {
            "tags": [],
            "needs_background": "light"
          }
        }
      ]
    }
  ]
}